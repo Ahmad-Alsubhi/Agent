{
 "cells": [
  {
   "cell_type": "markdown",
   "id": "0893a8aa",
   "metadata": {},
   "source": [
    "# Import library"
   ]
  },
  {
   "cell_type": "code",
   "execution_count": 93,
   "id": "afa0624a",
   "metadata": {},
   "outputs": [
    {
     "data": {
      "text/plain": [
       "True"
      ]
     },
     "execution_count": 93,
     "metadata": {},
     "output_type": "execute_result"
    }
   ],
   "source": [
    "import os\n",
    "from dotenv import load_dotenv\n",
    "from langchain_openai import ChatOpenAI\n",
    "from langchain.agents import initialize_agent, AgentType\n",
    "from langchain.tools import Tool\n",
    "from langchain.memory import ConversationBufferMemory \n",
    "from langchain_community.utilities import OpenWeatherMapAPIWrapper,WikipediaAPIWrapper\n",
    "load_dotenv()"
   ]
  },
  {
   "cell_type": "code",
   "execution_count": 9,
   "id": "e90ded5e",
   "metadata": {},
   "outputs": [],
   "source": [
    "import warnings\n",
    "warnings.filterwarnings('ignore')"
   ]
  },
  {
   "cell_type": "markdown",
   "id": "c4bed7ef",
   "metadata": {},
   "source": [
    "#  GPT-4o-mini\n"
   ]
  },
  {
   "cell_type": "code",
   "execution_count": null,
   "id": "4c064d7d",
   "metadata": {},
   "outputs": [],
   "source": [
    "\n",
    "llm = ChatOpenAI(model=\"gpt-4o-mini\", temperature=0)"
   ]
  },
  {
   "cell_type": "markdown",
   "id": "7f0f107c",
   "metadata": {},
   "source": [
    "# You need API Weather"
   ]
  },
  {
   "cell_type": "code",
   "execution_count": null,
   "id": "390b07db",
   "metadata": {},
   "outputs": [],
   "source": [
    "weather_api = OpenWeatherMapAPIWrapper()  #https://home.openweathermap.org/api_keys\n",
    "\n",
    "wiki = WikipediaAPIWrapper()\n",
    "\n"
   ]
  },
  {
   "cell_type": "markdown",
   "id": "3feb3cbc",
   "metadata": {},
   "source": [
    "# Function about Weather and Wikipedia"
   ]
  },
  {
   "cell_type": "code",
   "execution_count": 48,
   "id": "87e5b8c6",
   "metadata": {},
   "outputs": [],
   "source": [
    "def extract_weather(city):\n",
    "    data = weather_api.run(city)\n",
    "    # temperature and humidity\n",
    "    return f\"Temperature and humidity in {city}: {data}\"\n",
    "\n",
    "\n",
    "\n",
    "def extract_football_info(query: str) -> str:\n",
    "    modified_query = f\"{query} football\"\n",
    "    return wiki.run(modified_query)\n"
   ]
  },
  {
   "cell_type": "markdown",
   "id": "17e1cb0c",
   "metadata": {},
   "source": [
    "### Using only Weather in Saudi Arabia\n",
    "#### ----------------------------------\n",
    "### And using only news about football general"
   ]
  },
  {
   "cell_type": "code",
   "execution_count": 57,
   "id": "1ad2eb02",
   "metadata": {},
   "outputs": [],
   "source": [
    "weather_tool = Tool(\n",
    "    name=\"OpenWeatherMap\",\n",
    "    func=extract_weather,\n",
    "    description=\"Get temperature and humidity for Saudi cities\"\n",
    ")\n",
    "\n",
    "wikipedia_tool = Tool(\n",
    "    name=\"Football_Wikipedia\",\n",
    "    func=extract_football_info,\n",
    "    description=\"Use this tool to search football-related topics from Wikipedia. Input can be player names, teams, tournaments, etc.\"\n",
    ")\n",
    "\n",
    "\n"
   ]
  },
  {
   "cell_type": "markdown",
   "id": "e172a273",
   "metadata": {},
   "source": [
    "# Create memory buffer in the RAM"
   ]
  },
  {
   "cell_type": "code",
   "execution_count": 82,
   "id": "353164d3",
   "metadata": {},
   "outputs": [],
   "source": [
    "memory = ConversationBufferMemory(memory_key=\"chat_history\", return_messages=True)\n"
   ]
  },
  {
   "cell_type": "markdown",
   "id": "9a976c8b",
   "metadata": {},
   "source": [
    "# Agent"
   ]
  },
  {
   "cell_type": "code",
   "execution_count": 83,
   "id": "63fe9393",
   "metadata": {},
   "outputs": [],
   "source": [
    "agent = initialize_agent(\n",
    "    tools=[weather_tool, wikipedia_tool],\n",
    "    llm=llm,\n",
    "    agent=AgentType.ZERO_SHOT_REACT_DESCRIPTION,\n",
    "    memory=memory,\n",
    "    verbose=True\n",
    ")"
   ]
  },
  {
   "cell_type": "markdown",
   "id": "cf584ec1",
   "metadata": {},
   "source": [
    "# Question  -> Answer"
   ]
  },
  {
   "cell_type": "code",
   "execution_count": 84,
   "id": "ce679d05",
   "metadata": {},
   "outputs": [
    {
     "name": "stdout",
     "output_type": "stream",
     "text": [
      "\n",
      "\n",
      "\u001b[1m> Entering new AgentExecutor chain...\u001b[0m\n",
      "\u001b[32;1m\u001b[1;3mI need to get the current temperature and humidity for Riyadh using the OpenWeatherMap tool.  \n",
      "Action: OpenWeatherMap  \n",
      "Action Input: Riyadh  \u001b[0m\n",
      "Observation: \u001b[36;1m\u001b[1;3mTemperature and humidity in Riyadh: In Riyadh, the current weather is as follows:\n",
      "Detailed status: scattered clouds\n",
      "Wind speed: 8.99 m/s, direction: 171°\n",
      "Humidity: 13%\n",
      "Temperature: \n",
      "  - Current: 35.9°C\n",
      "  - High: 35.9°C\n",
      "  - Low: 35.9°C\n",
      "  - Feels like: 33.31°C\n",
      "Rain: {}\n",
      "Heat index: None\n",
      "Cloud cover: 28%\u001b[0m\n",
      "Thought:\u001b[32;1m\u001b[1;3mI now know the final answer.  \n",
      "Final Answer: The current temperature in Riyadh is 35.9°C with a humidity of 13%.\u001b[0m\n",
      "\n",
      "\u001b[1m> Finished chain.\u001b[0m\n",
      "The current temperature in Riyadh is 35.9°C with a humidity of 13%.\n"
     ]
    }
   ],
   "source": [
    "response = agent.run(\"Give me the temperature and humidity in Riyadh.\")\n",
    "print(response)\n"
   ]
  },
  {
   "cell_type": "code",
   "execution_count": 85,
   "id": "42e4e659",
   "metadata": {},
   "outputs": [
    {
     "name": "stdout",
     "output_type": "stream",
     "text": [
      "\n",
      "\n",
      "\u001b[1m> Entering new AgentExecutor chain...\u001b[0m\n",
      "\u001b[32;1m\u001b[1;3mI need to get the current temperature and humidity for Mecca, Saudi Arabia. \n",
      "Action: OpenWeatherMap\n",
      "Action Input: Mecca\u001b[0m\n",
      "Observation: \u001b[36;1m\u001b[1;3mTemperature and humidity in Mecca: In Mecca, the current weather is as follows:\n",
      "Detailed status: clear sky\n",
      "Wind speed: 4.53 m/s, direction: 235°\n",
      "Humidity: 21%\n",
      "Temperature: \n",
      "  - Current: 38.43°C\n",
      "  - High: 38.43°C\n",
      "  - Low: 38.43°C\n",
      "  - Feels like: 37.47°C\n",
      "Rain: {}\n",
      "Heat index: None\n",
      "Cloud cover: 0%\u001b[0m\n",
      "Thought:\u001b[32;1m\u001b[1;3mI now know the final answer. \n",
      "Final Answer: The current temperature in Mecca is 38.43°C with a humidity of 21%.\u001b[0m\n",
      "\n",
      "\u001b[1m> Finished chain.\u001b[0m\n",
      "The current temperature in Mecca is 38.43°C with a humidity of 21%.\n"
     ]
    }
   ],
   "source": [
    "response = agent.run(\"Give me the temperature and humidity in Mecca.\")\n",
    "print(response)\n"
   ]
  },
  {
   "cell_type": "code",
   "execution_count": 86,
   "id": "dbdcebb4",
   "metadata": {},
   "outputs": [
    {
     "name": "stdout",
     "output_type": "stream",
     "text": [
      "\n",
      "\n",
      "\u001b[1m> Entering new AgentExecutor chain...\u001b[0m\n",
      "\u001b[32;1m\u001b[1;3mManchester is not in Saudi Arabia, so I cannot retrieve the weather information for that city using the OpenWeatherMap tool. I need to find a city in Saudi Arabia to get the temperature and humidity. \n",
      "Final Answer: I cannot provide the temperature and humidity for Manchester as it is not a city in Saudi Arabia.\u001b[0m\n",
      "\n",
      "\u001b[1m> Finished chain.\u001b[0m\n",
      "I cannot provide the temperature and humidity for Manchester as it is not a city in Saudi Arabia.\n"
     ]
    }
   ],
   "source": [
    "response = agent.run(\"Give me the temperature and humidity in Manchester.\")\n",
    "print(response)"
   ]
  },
  {
   "cell_type": "code",
   "execution_count": 87,
   "id": "1826afab",
   "metadata": {},
   "outputs": [
    {
     "name": "stdout",
     "output_type": "stream",
     "text": [
      "\n",
      "\n",
      "\u001b[1m> Entering new AgentExecutor chain...\u001b[0m\n",
      "\u001b[32;1m\u001b[1;3mTo answer the question about the first team to win the World Cup for national teams, I should look up historical information related to the FIFA World Cup. This will likely involve searching for the tournament's inception and the first winner. \n",
      "\n",
      "Action: Football_Wikipedia  \n",
      "Action Input: \"FIFA World Cup\"  \u001b[0m\n",
      "Observation: \u001b[33;1m\u001b[1;3mPage: 2018 FIFA World Cup\n",
      "Summary: The 2018 FIFA World Cup was the 21st FIFA World Cup, the quadrennial world championship for national football teams organized by FIFA. It took place in Russia from 14 June to 15 July 2018, after the country was awarded the hosting rights in late 2010. It was the eleventh time the championships had been held in Europe and the first time they were held in Eastern Europe, also featuring one or two venues, depending on definition, located across the boundary with Asia. At an estimated cost of over $14.2 billion, it was the most expensive World Cup ever held until it was surpassed by the 2022 World Cup in Qatar.\n",
      "The tournament phase involved 32 teams, of which 31 came through qualifying competitions, while the host nation Russia qualified automatically. Of the 32, 20 had also appeared in the 2014 event, while Iceland and Panama each made their debut at the World Cup. 64 matches were played in 12 venues across 11 cities. Germany, the defending champions, were eliminated in the group stage for the first time since 1938. Host nation  Russia was eliminated in the quarter-finals. In the final, France played Croatia on 15 July at Luzhniki Stadium in Moscow. France won the match 4–2, claiming their second World Cup and becoming the fourth consecutive title won by a European team, after Italy in 2006, Spain in 2010, and Germany in 2014.\n",
      "Croatian player Luka Modrić was voted the tournament's best player, winning the Golden Ball. England's Harry Kane won the Golden Boot as he scored the most goals during the tournament with six. Belgium's Thibaut Courtois won the Golden Glove, awarded to the goalkeeper with the best performance. It has been estimated that more than 3 million people attended games during the tournament.\n",
      "\n",
      "\n",
      "\n",
      "Page: 2026 FIFA World Cup\n",
      "Summary: The 2026 FIFA World Cup, marketed as FIFA World Cup 26, will be the 23rd FIFA World Cup, the quadrennial international men's soccer championship contested by the national teams of the member associations of FIFA. The tournament will take place from June 11 to July 19, 2026. It will be jointly hosted by 16 cities in three North American countries; the main host country of matches is the United States, while Canada and Mexico will be the auxiliary hosts. The tournament will be the first to be hosted by three nations.\n",
      "This tournament will be the first to include 48 teams, expanded from 32. The United 2026 bid beat a rival bid by Morocco during a final vote at the 68th FIFA Congress in Moscow. It will be the first World Cup since 2002 to be hosted by more than one nation. With its past hosting of the 1970 and 1986 tournaments, Mexico will become the first country to host or co-host the men's World Cup three times. The United States last hosted the men's World Cup in 1994, whereas it will be Canada's first time hosting or co-hosting the men's tournament. The event will also return to its traditional northern summer schedule after the 2022 World Cup in Qatar was held in November and December. The competition will also occur during the United States Semiquincentennial.\n",
      "Argentina is the defending champion, having won its third title in 2022.\n",
      "\n",
      "\n",
      "\n",
      "Page: FIFA World Cup records and statistics\n",
      "Summary: As of the 2022 FIFA World Cup, 80 national teams have competed at the finals of the men’s FIFA World Cup. Brazil is the only team to have appeared in all 22 tournaments to date, with Germany having participated in 20, Italy and Argentina in 18 and Mexico in 17. Eight nations have won the tournament. The inaugural winners in 1930 were Uruguay; the current champions are Argentina. The most successful nation is Brazil, which has won the cup on five occasions. Five teams have appeared in FIFA World Cup finals without winning, while twelve more have appeared in the semi-finals. \n",
      "\n",
      "\u001b[0m\n",
      "Thought:\u001b[32;1m\u001b[1;3mI now know the final answer. The first team to win the World Cup for national teams was Uruguay in 1930. \n",
      "\n",
      "Final Answer: The first team to win the World Cup for national teams was Uruguay in 1930.\u001b[0m\n",
      "\n",
      "\u001b[1m> Finished chain.\u001b[0m\n",
      "The first team to win the World Cup for national teams was Uruguay in 1930.\n"
     ]
    }
   ],
   "source": [
    "response = agent.run(\"Who was the first to win the World Cup for national teams?\")\n",
    "print(response)\n"
   ]
  },
  {
   "cell_type": "code",
   "execution_count": 88,
   "id": "fa974b7f",
   "metadata": {},
   "outputs": [
    {
     "name": "stdout",
     "output_type": "stream",
     "text": [
      "\n",
      "\n",
      "\u001b[1m> Entering new AgentExecutor chain...\u001b[0m\n",
      "\u001b[32;1m\u001b[1;3mTo answer the question about the first official championship for Real Madrid by the Spanish Federation, I will look up relevant information about Real Madrid's history in official championships. \n",
      "\n",
      "Action: Football_Wikipedia  \n",
      "Action Input: \"Real Madrid first official championship Spanish Federation\"  \u001b[0m\n",
      "Observation: \u001b[33;1m\u001b[1;3mPage: List of Real Madrid CF seasons\n",
      "Summary: Real Madrid Club de Fútbol is a football club that plays in La Liga. The club was formed in 1902 as Madrid Football Club, and played its first competitive match on 13 May 1902, when it lost 3–1 in the semi-final of the Campeonato de Copa de S.M. Alfonso XIII against FC Barcelona. Real Madrid played against other local clubs in various regional tournaments, that served as qualifiers for the Copa del Rey, from 1902 to 1940. In 1929, the club became one of the founding members of La Liga, Spain's first national league. As of 2024, Real is one of only three clubs never to have been relegated from the top level of Spanish football, the others being Athletic Bilbao and Barcelona.\n",
      "From 1902 to 1929, Real won the Copa del Rey five times and the regional championship 15 times. Real Madrid had a successful start in La Liga, finishing second in the competition's first season, and winning the league in 1932 for the first time. In the 1947–48 season, Madrid finished eleventh, which remains, as of 2024, the club's lowest final position. Real Madrid won La Liga four times and the European Cup five times during the 1950s. However, the most successful period for the club in terms of domestic titles was the 1960s, when Real Madrid won eight league championships. It won its first double of league championship and national cup in 1962. Real is also the only Spanish football team to win five consecutive titles, a feat which it has achieved on two occasions (1960–65 and 1985–90).\n",
      "Real Madrid is the most successful club in UEFA competitions, winning 26. The club first participated in European competition during the 1954–55 season, when it played in the Latin Cup. It won its first major European title, and the inaugural European Cup, during the 1955–56 season. Real Madrid won the first five editions of the European Cup, and a further ten titles, the last of which was in 2024, holding the record for the most victories in the tournament. The club won the UEFA Cup during the 1984–85 season and retained the trophy the following year.\n",
      "The club has won La Liga 36 times, the Copa del Rey 20 times, the Supercopa de España 13 times, the Copa de la Liga once, the Copa Eva Duarte once, the European Cup/Champions League 15 times, the UEFA Cup twice, the European/UEFA Super Cup six times, the Intercontinental Cup three times, the FIFA Intercontinental Cup once and the FIFA Club World Cup five times. The table details the club's achievements in the early regional championships and in all national and international first team competitions for each completed season since the club's formation in 1902.\n",
      "The club won at least one trophy for seventeen consecutive seasons (from 1953–54 to 1969–70), a record in Spanish football. Its most recent trophy came in 2024 with the inaugural Intercontinental Cup.\n",
      "\n",
      "\n",
      "\n",
      "Page: Football in Madrid\n",
      "Summary: Football is the most popular sport, both in terms of participants and spectators, in Madrid. Madrid is the only city that had derby matches in the UEFA Champions League finals (2014 and 2016).\n",
      "\n",
      "Page: Real Madrid CF in international football\n",
      "Summary: Real Madrid Club de Fútbol is a professional football club based in Madrid, Spain. The club first participated in a European competition in 1955. The first international cup they took part in was the Latin Cup in which they participated as champions of Spain. The competition lasted from 1949 to 1957 and Real Madrid won both tournaments which they entered, the same number as Barcelona and Milan. Since becoming the first Spanish club to enter the European Cup in 1955, Real has competed in every UEFA-organized competition, except the Intertoto Cup and Conference League. They have missed out on European football only twice in their history, in the 1977–78 and 1996–97 seasons.\n",
      "Real Madrid has had the most success in the European Cup, winning the trophy for a record fifteen times. Real was the winner of the inaugural edition of the tournament and remai\u001b[0m\n",
      "Thought:\u001b[32;1m\u001b[1;3mI have gathered information about Real Madrid's history and achievements, particularly focusing on their first official championship. The club was founded in 1902 and won the Copa del Rey five times before 1929. In 1929, Real Madrid became one of the founding members of La Liga, which is Spain's first national league. Therefore, the first official championship for Real Madrid by the Spanish Federation would be the Copa del Rey, which they won for the first time in 1905.\n",
      "\n",
      "Final Answer: The first official championship for Real Madrid by the Spanish Federation was the Copa del Rey, which they won in 1905.\u001b[0m\n",
      "\n",
      "\u001b[1m> Finished chain.\u001b[0m\n",
      "The first official championship for Real Madrid by the Spanish Federation was the Copa del Rey, which they won in 1905.\n"
     ]
    }
   ],
   "source": [
    "response = agent.run(\"What is the first official championship for Real Madrid by the Spanish Federation?\")\n",
    "print(response)\n"
   ]
  },
  {
   "cell_type": "code",
   "execution_count": 89,
   "id": "00db2fa8",
   "metadata": {},
   "outputs": [
    {
     "name": "stdout",
     "output_type": "stream",
     "text": [
      "\n",
      "\n",
      "\u001b[1m> Entering new AgentExecutor chain...\u001b[0m\n",
      "\u001b[32;1m\u001b[1;3mThe question is about the 2023 NBA Finals, which is a basketball event, not related to football. I need to find information about the NBA Finals, but I don't have a tool for that. Instead, I can search for football-related topics, which won't help here. I will need to look up the answer elsewhere or acknowledge that I cannot provide it. \n",
      "\n",
      "Final Answer: I do not have access to information about the 2023 NBA Finals.\u001b[0m\n",
      "\n",
      "\u001b[1m> Finished chain.\u001b[0m\n",
      "I do not have access to information about the 2023 NBA Finals.\n"
     ]
    }
   ],
   "source": [
    "response = agent.run(\"Which team won the 2023 NBA Finals?\")\n",
    "print(response)"
   ]
  },
  {
   "cell_type": "markdown",
   "id": "e5634602",
   "metadata": {},
   "source": [
    "# Memory History "
   ]
  },
  {
   "cell_type": "code",
   "execution_count": 90,
   "id": "61167af2",
   "metadata": {},
   "outputs": [
    {
     "name": "stdout",
     "output_type": "stream",
     "text": [
      "\n",
      "--- Memory State ---\n",
      "Give me the temperature and humidity in Riyadh.\n",
      "\n",
      "The current temperature in Riyadh is 35.9°C with a humidity of 13%.\n",
      "\n",
      "Give me the temperature and humidity in Mecca.\n",
      "\n",
      "The current temperature in Mecca is 38.43°C with a humidity of 21%.\n",
      "\n",
      "Give me the temperature and humidity in Manchester.\n",
      "\n",
      "I cannot provide the temperature and humidity for Manchester as it is not a city in Saudi Arabia.\n",
      "\n",
      "Who was the first to win the World Cup for national teams?\n",
      "\n",
      "The first team to win the World Cup for national teams was Uruguay in 1930.\n",
      "\n",
      "What is the first official championship for Real Madrid by the Spanish Federation?\n",
      "\n",
      "The first official championship for Real Madrid by the Spanish Federation was the Copa del Rey, which they won in 1905.\n",
      "\n",
      "Which team won the 2023 NBA Finals?\n",
      "\n",
      "I do not have access to information about the 2023 NBA Finals.\n",
      "\n"
     ]
    }
   ],
   "source": [
    "print(\"\\n--- Memory State ---\")\n",
    "for msg in memory.chat_memory.messages:\n",
    "    if msg.type in [\"human\", \"ai\"]:\n",
    "        print(f\"{msg.content}\\n\")\n",
    "        \n"
   ]
  },
  {
   "cell_type": "code",
   "execution_count": 69,
   "id": "46df664e",
   "metadata": {},
   "outputs": [
    {
     "data": {
      "text/plain": [
       "ConversationBufferMemory(chat_memory=InMemoryChatMessageHistory(messages=[HumanMessage(content='Give me the temperature and humidity in Abha.', additional_kwargs={}, response_metadata={}), AIMessage(content='The current temperature in Abha is 25.14°C with a humidity of 22%.', additional_kwargs={}, response_metadata={}), HumanMessage(content='Who was the first to win the World Cup for national teams?', additional_kwargs={}, response_metadata={}), AIMessage(content='The first team to win the World Cup for national teams was Uruguay.', additional_kwargs={}, response_metadata={}), HumanMessage(content='Give me the temperature and humidity in Jeddah.', additional_kwargs={}, response_metadata={}), AIMessage(content='The current temperature in Jeddah is 33.92°C with a humidity of 43%.', additional_kwargs={}, response_metadata={}), HumanMessage(content='Who was the first to win the World Cup for national teams?', additional_kwargs={}, response_metadata={}), AIMessage(content='The first team to win the World Cup for national teams was Uruguay in 1930.', additional_kwargs={}, response_metadata={}), HumanMessage(content='Give me the temperature and humidity in Jeddah.', additional_kwargs={}, response_metadata={}), AIMessage(content='The current temperature in Jeddah is 33.92°C with a humidity of 43%.', additional_kwargs={}, response_metadata={}), HumanMessage(content='Give me the temperature and humidity in Riyadh.', additional_kwargs={}, response_metadata={}), AIMessage(content='The current temperature in Riyadh is 36.23°C with a humidity of 12%.', additional_kwargs={}, response_metadata={}), HumanMessage(content='Who was the first to win the World Cup for national teams?', additional_kwargs={}, response_metadata={}), AIMessage(content='The first team to win the World Cup for national teams was Uruguay in 1930.', additional_kwargs={}, response_metadata={})]), return_messages=True, memory_key='chat_history')"
      ]
     },
     "execution_count": 69,
     "metadata": {},
     "output_type": "execute_result"
    }
   ],
   "source": [
    "memory"
   ]
  },
  {
   "cell_type": "code",
   "execution_count": null,
   "id": "f63f436e",
   "metadata": {},
   "outputs": [],
   "source": []
  }
 ],
 "metadata": {
  "kernelspec": {
   "display_name": "venv",
   "language": "python",
   "name": "python3"
  },
  "language_info": {
   "codemirror_mode": {
    "name": "ipython",
    "version": 3
   },
   "file_extension": ".py",
   "mimetype": "text/x-python",
   "name": "python",
   "nbconvert_exporter": "python",
   "pygments_lexer": "ipython3",
   "version": "3.12.8"
  }
 },
 "nbformat": 4,
 "nbformat_minor": 5
}
